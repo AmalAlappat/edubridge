{
 "cells": [
  {
   "cell_type": "code",
   "execution_count": 6,
   "id": "d8233968",
   "metadata": {},
   "outputs": [
    {
     "name": "stdout",
     "output_type": "stream",
     "text": [
      "enter the number23\n",
      "32\n"
     ]
    }
   ],
   "source": [
    "#reverse\n",
    "n=int(input(\"enter the number\"))\n",
    "print(((n%10)*10)+n//10)"
   ]
  },
  {
   "cell_type": "code",
   "execution_count": 1,
   "id": "db71020c",
   "metadata": {},
   "outputs": [
    {
     "name": "stdout",
     "output_type": "stream",
     "text": [
      "fn2\n",
      "sn3\n",
      "5\n"
     ]
    }
   ],
   "source": [
    "#sum\n",
    "x=int(input(\"fn\"))\n",
    "y=int(input(\"sn\"))\n",
    "z=x+y\n",
    "print(z)"
   ]
  },
  {
   "cell_type": "code",
   "execution_count": 3,
   "id": "e1535732",
   "metadata": {},
   "outputs": [
    {
     "name": "stdout",
     "output_type": "stream",
     "text": [
      "first number23\n",
      "second number32\n",
      "32 23\n"
     ]
    }
   ],
   "source": [
    "#swap\n",
    "x=int(input(\"first number\"))\n",
    "y=int(input(\"second number\"))\n",
    "temp=x\n",
    "x=y\n",
    "y=temp\n",
    "print(x,y)"
   ]
  },
  {
   "cell_type": "code",
   "execution_count": 5,
   "id": "d9588546",
   "metadata": {},
   "outputs": [
    {
     "name": "stdout",
     "output_type": "stream",
     "text": [
      "radius3\n",
      "rslt 113.03999999999998\n"
     ]
    }
   ],
   "source": [
    "#volume of cylinder\n",
    "radius=(int(input(\"radius\")))\n",
    "vo=(3.14*4/3*radius*radius*radius)\n",
    "print(\"rslt\",vo)"
   ]
  }
 ],
 "metadata": {
  "kernelspec": {
   "display_name": "Python 3",
   "language": "python",
   "name": "python3"
  },
  "language_info": {
   "codemirror_mode": {
    "name": "ipython",
    "version": 3
   },
   "file_extension": ".py",
   "mimetype": "text/x-python",
   "name": "python",
   "nbconvert_exporter": "python",
   "pygments_lexer": "ipython3",
   "version": "3.8.8"
  }
 },
 "nbformat": 4,
 "nbformat_minor": 5
}

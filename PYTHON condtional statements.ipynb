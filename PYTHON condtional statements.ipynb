{
 "cells": [
  {
   "cell_type": "code",
   "execution_count": 4,
   "id": "f7dd98dd",
   "metadata": {},
   "outputs": [
    {
     "name": "stdout",
     "output_type": "stream",
     "text": [
      "enter the mark84\n",
      "B\n"
     ]
    }
   ],
   "source": [
    "#grading\n",
    "m=int(input(\"enter the mark\"))\n",
    "if m>=90:\n",
    "    print(\"A\")\n",
    "elif 90>m and m>=75:\n",
    "    print(\"B\")\n",
    "elif 75>m and m>=65:\n",
    "    print(\"c\")\n",
    "else:\n",
    "    print(\"f\")"
   ]
  },
  {
   "cell_type": "code",
   "execution_count": 7,
   "id": "9bc93797",
   "metadata": {},
   "outputs": [
    {
     "name": "stdout",
     "output_type": "stream",
     "text": [
      "enter the nu bw 1&75\n",
      "thursday\n"
     ]
    }
   ],
   "source": [
    "#day with number\n",
    "a=int(input(\"enter the nu bw 1&7\"))\n",
    "if a==1:\n",
    "    print(\"sunnday\")\n",
    "elif a==2:\n",
    "    print(\"monday\") \n",
    "elif a==3:\n",
    "    print(\"tuesday\")\n",
    "elif a==4:\n",
    "    print(\"wenesday\")\n",
    "elif a==5:\n",
    "    print(\"thursday\")\n",
    "elif a==6:\n",
    "    print(\"friday\")\n",
    "else:\n",
    "    print(\"saturday\")"
   ]
  },
  {
   "cell_type": "code",
   "execution_count": 8,
   "id": "ec0d136a",
   "metadata": {},
   "outputs": [
    {
     "name": "stdout",
     "output_type": "stream",
     "text": [
      "enter the first number5\n",
      "enter the second number4\n",
      "enter the third number3\n",
      "5 4 3\n"
     ]
    }
   ],
   "source": [
    "#ascending order\n",
    "a=int(input(\"enter the first number\"))\n",
    "b=int(input(\"enter the second number\"))\n",
    "c=int(input(\"enter the third number\"))\n",
    "if a>b>c:\n",
    "    print(a,b,c)\n",
    "elif b>c>a:\n",
    "    print(b,c,a)\n",
    "elif a>c>b:\n",
    "    print(a,c,b)\n",
    "elif b>a>c:\n",
    "    print(b,a,c)\n",
    "elif  c>b>a:\n",
    "    print(c,b,a)\n",
    "else:\n",
    "    print(c,a,b)\n"
   ]
  },
  {
   "cell_type": "code",
   "execution_count": 24,
   "id": "aa52e9ee",
   "metadata": {},
   "outputs": [
    {
     "name": "stdout",
     "output_type": "stream",
     "text": [
      "number?5\n",
      "o\n"
     ]
    }
   ],
   "source": [
    "#even or odd\n",
    "k=int(input(\"number?\"))\n",
    "if k%2==0:\n",
    "    print(\"e\")\n",
    "else:\n",
    "    print(\"o\")"
   ]
  },
  {
   "cell_type": "code",
   "execution_count": 2,
   "id": "b7ddea62",
   "metadata": {},
   "outputs": [
    {
     "name": "stdout",
     "output_type": "stream",
     "text": [
      "year2020\n",
      "leap year\n"
     ]
    }
   ],
   "source": [
    "#leap year or not\n",
    "k=int(input(\"year\"))\n",
    "if k%4==0:\n",
    "    print(\"leap year\")\n",
    "else:\n",
    "    print(\"not a leap year\")"
   ]
  },
  {
   "cell_type": "code",
   "execution_count": 7,
   "id": "75385d64",
   "metadata": {},
   "outputs": [
    {
     "name": "stdout",
     "output_type": "stream",
     "text": [
      "enter first number12\n",
      "enter second number13\n",
      "enter third number14\n",
      "largest is 14\n"
     ]
    }
   ],
   "source": [
    "#largest number\n",
    "a=int(input(\"enter first number\"))\n",
    "b=int(input(\"enter second number\"))\n",
    "c=int(input(\"enter third number\"))\n",
    "if a>b and a>c:\n",
    "    print(\"largest is\",a)\n",
    "elif b>a and b>c:\n",
    "    print(\"largest is\",b)\n",
    "else:\n",
    "    print(\"largest is\",c)"
   ]
  },
  {
   "cell_type": "code",
   "execution_count": 8,
   "id": "c6389960",
   "metadata": {},
   "outputs": [
    {
     "name": "stdout",
     "output_type": "stream",
     "text": [
      "enter first number12\n",
      "enter second number13\n",
      "enter third number14\n",
      "smallest is 12\n"
     ]
    }
   ],
   "source": [
    "#smallest number\n",
    "a=int(input(\"enter first number\"))\n",
    "b=int(input(\"enter second number\"))\n",
    "c=int(input(\"enter third number\"))\n",
    "if a<b and a<c:\n",
    "    print(\"smallest is\",a)\n",
    "elif b<a and b<c:\n",
    "    print(\"smallest is\",b)\n",
    "else:\n",
    "    print(\"largest is\",c)"
   ]
  },
  {
   "cell_type": "code",
   "execution_count": 1,
   "id": "b1d67837",
   "metadata": {},
   "outputs": [
    {
     "name": "stdout",
     "output_type": "stream",
     "text": [
      "first number25\n",
      "second number2\n",
      "enter the operation +-*/*\n",
      "50\n"
     ]
    }
   ],
   "source": [
    "#sumple calculator\n",
    "a=int(input(\"first number\"))\n",
    "b=int(input(\"second number\"))\n",
    "op=(input(\"enter the operation +-*/\"))      \n",
    "if op=='+':\n",
    "    p=a+b\n",
    "    print(p)\n",
    "elif op=='-':\n",
    "    p=a-b\n",
    "    print(p)\n",
    "elif op=='*':\n",
    "    p=a*b\n",
    "    print(p)\n",
    "else:\n",
    "    p=a/b\n",
    "    print(p)"
   ]
  },
  {
   "cell_type": "code",
   "execution_count": 2,
   "id": "42d5cc5a",
   "metadata": {},
   "outputs": [
    {
     "name": "stdout",
     "output_type": "stream",
     "text": [
      "enter the number 1-125\n",
      "may\n"
     ]
    }
   ],
   "source": [
    "#month with number\n",
    "k=int(input(\"enter the number 1-12\"))\n",
    "if k==1:\n",
    "    print(\"jan\")\n",
    "elif k==2:\n",
    "    print(feb)\n",
    "elif k==3:\n",
    "    print(\"mar\")\n",
    "elif k==4:\n",
    "    print(\"apr\")\n",
    "elif k==5:\n",
    "    print(\"may\")\n",
    "elif k==6:\n",
    "    print(\"jun\")\n",
    "elif k==7:\n",
    "    print(\"jul\")\n",
    "elif k==8:\n",
    "    print(\"ayg\")\n",
    "elif k==9:\n",
    "    print(\"sep\")\n",
    "elif k==10:\n",
    "    print(\"oct\")\n",
    "elif k==11:\n",
    "    print(\"nov\")\n",
    "else:\n",
    "    print(\"dec\")\n",
    "        "
   ]
  },
  {
   "cell_type": "code",
   "execution_count": 2,
   "id": "ff25e8e0",
   "metadata": {},
   "outputs": [
    {
     "name": "stdout",
     "output_type": "stream",
     "text": [
      "enter the number  121\n",
      "its palindrome\n"
     ]
    }
   ],
   "source": [
    "#palindrome\n",
    "num=int(input(\"enter the number  \"))\n",
    "temp=num\n",
    "rev=0\n",
    "while num>0:\n",
    "    rem=num%10\n",
    "    rev=(rev*10)+rem\n",
    "    num=num//10\n",
    "if temp==rev:\n",
    "    print(\"its palindrome\")\n",
    "else:\n",
    "        print(\"not palindrome\")"
   ]
  },
  {
   "cell_type": "code",
   "execution_count": 4,
   "id": "25e724b5",
   "metadata": {},
   "outputs": [
    {
     "name": "stdout",
     "output_type": "stream",
     "text": [
      "please enter 1 for square,2 for rectangle,3 for triangle 1\n",
      "side=5\n",
      "25\n"
     ]
    }
   ],
   "source": [
    "#area of shapes\n",
    "shape=int (input(\"please enter 1 for square,2 for rectangle,3 for triangle \"))\n",
    "if shape==1:\n",
    "    a=int (input(\"side=\"))\n",
    "    print(a*a)\n",
    "elif shape==2:\n",
    "    l=int (input(\"length\"))\n",
    "    b=int(input(\"breadth\"))\n",
    "    print(l*b)\n",
    "elif shape==3:\n",
    "    b=int(input(\"breadth\"))\n",
    "    h=int (input(\"height\"))\n",
    "    print(.5*h*b)\n",
    "else:\n",
    "    print(\"wrong entry\")"
   ]
  },
  {
   "cell_type": "code",
   "execution_count": null,
   "id": "ad4be7dd",
   "metadata": {},
   "outputs": [],
   "source": []
  }
 ],
 "metadata": {
  "kernelspec": {
   "display_name": "Python 3",
   "language": "python",
   "name": "python3"
  },
  "language_info": {
   "codemirror_mode": {
    "name": "ipython",
    "version": 3
   },
   "file_extension": ".py",
   "mimetype": "text/x-python",
   "name": "python",
   "nbconvert_exporter": "python",
   "pygments_lexer": "ipython3",
   "version": "3.8.8"
  }
 },
 "nbformat": 4,
 "nbformat_minor": 5
}
